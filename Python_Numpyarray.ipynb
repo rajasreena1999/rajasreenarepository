{
  "nbformat": 4,
  "nbformat_minor": 0,
  "metadata": {
    "colab": {
      "provenance": [],
      "authorship_tag": "ABX9TyP4Q9IO8iTTcTKbYSGWFAJh",
      "include_colab_link": true
    },
    "kernelspec": {
      "name": "python3",
      "display_name": "Python 3"
    },
    "language_info": {
      "name": "python"
    }
  },
  "cells": [
    {
      "cell_type": "markdown",
      "metadata": {
        "id": "view-in-github",
        "colab_type": "text"
      },
      "source": [
        "<a href=\"https://colab.research.google.com/github/rajasreena1999/rajasreenarepository/blob/main/Python_Numpyarray.ipynb\" target=\"_parent\"><img src=\"https://colab.research.google.com/assets/colab-badge.svg\" alt=\"Open In Colab\"/></a>"
      ]
    },
    {
      "cell_type": "markdown",
      "source": [
        "# **Numpy.array()**\n",
        "The homogeneous multidimensional array is the main object of NumPy. It is basically a table of elements which are all of the same type and indexed by a tuple of positive integers. The dimensions are called **axis **in NumPy.\n",
        "\n",
        "The NumPy's array class is known as **ndarray **or **alias array**. The numpy.array is not the same as the standard Python library class array.array. The array.array handles only one-dimensional arrays and provides less functionality.\n",
        "\n",
        "Syntax\n",
        "\n",
        "    numpy.array(object, dtype=None, copy=True, order='K', subok=False, ndmin=0)"
      ],
      "metadata": {
        "id": "MgioZ3qpYieR"
      }
    },
    {
      "cell_type": "markdown",
      "source": [
        "**Parameters**\n",
        "\n",
        "1) object: array_like\n",
        "\n",
        "Any object, which exposes an array interface whose __array__ method returns any nested sequence or an array.\n",
        "\n",
        "2) dtype : optional data-type\n",
        "\n",
        "This parameter is used to define the desired parameter for the array element. If we do not define the data type, then it will determine the type as the minimum type which will require to hold the object in the sequence. This parameter is used only for upcasting the array.\n",
        "\n",
        "3) copy: bool(optional)\n",
        "\n",
        "If we set copy equals to true, the object is copied else the copy will be made when an object is a nested sequence, or a copy is needed to satisfy any of the other requirements such as dtype, order, etc.\n",
        "\n",
        "4) order : {'K', 'A', 'C', 'F'}, optional\n",
        "\n",
        "The order parameter specifies the memory layout of the array. When the object is not an array, the newly created array will be in C order (row head or row-major) unless 'F' is specified. When F is specified, it will be in Fortran order (column head or column-major). When copy=False or the copy is made for the other reason, the result will be the same as copy= True with some exceptions for A. The default order is 'K'.\n",
        "\n",
        "5) subok : bool(optional)\n",
        "\n",
        "When subok=True, then sub-classes will pass-through; otherwise, the returned array will force to be a base-class array (default).\n",
        "\n",
        "6) ndmin : int(optional)\n",
        "\n",
        "This parameter specifies the minimum number of dimensions which the resulting array should have. Users can be prepended to the shape as needed to meet this requirement."
      ],
      "metadata": {
        "id": "tGQ9-nFWaU_n"
      }
    },
    {
      "cell_type": "code",
      "execution_count": null,
      "metadata": {
        "colab": {
          "base_uri": "https://localhost:8080/"
        },
        "id": "IrsJeYjIYgY1",
        "outputId": "2091e756-0a84-4453-cf94-ef8e7c7c5450"
      },
      "outputs": [
        {
          "output_type": "execute_result",
          "data": {
            "text/plain": [
              "array([1, 2, 3])"
            ]
          },
          "metadata": {},
          "execution_count": 2
        }
      ],
      "source": [
        "import numpy as np\n",
        "ar1=np.array([1,2,3])\n",
        "ar1\n"
      ]
    },
    {
      "cell_type": "code",
      "source": [
        "ar2 = np.array([1,2.,3.])\n",
        "ar3=np.array([[1,2,3],[4,5,6]])\n",
        "print(ar2)\n",
        "print(ar3)"
      ],
      "metadata": {
        "colab": {
          "base_uri": "https://localhost:8080/"
        },
        "id": "hGeTBikeY-nG",
        "outputId": "2ee28f85-59d2-4e34-e0fc-2888f941eb50"
      },
      "execution_count": null,
      "outputs": [
        {
          "output_type": "stream",
          "name": "stdout",
          "text": [
            "[1. 2. 3.]\n",
            "[[1 2 3]\n",
            " [4 5 6]]\n"
          ]
        }
      ]
    },
    {
      "cell_type": "code",
      "source": [
        "#check datatype\n",
        "import numpy as np\n",
        "arr1 = np.array([10, 11, 12, 13])\n",
        "print(arr1.dtype)\n",
        "arr2 = np.array(['Matlab','in', '8', 'Hours'])\n",
        "print(arr2.dtype)"
      ],
      "metadata": {
        "colab": {
          "base_uri": "https://localhost:8080/"
        },
        "id": "9ak0lzA915ar",
        "outputId": "f3310afb-068b-4317-fae5-9048318f5bc1"
      },
      "execution_count": null,
      "outputs": [
        {
          "output_type": "stream",
          "name": "stdout",
          "text": [
            "int64\n",
            "<U6\n"
          ]
        }
      ]
    },
    {
      "cell_type": "markdown",
      "source": [
        "“arr1.dtype” and “arr2.dtype” returns the data type of the arrays.“int64” means the integer type with 64 bits.“<U6” means that each unsigned string has no more than six characters in this array (Matlab in 8 Hours).“<” is a symbol of the little-endian byte order."
      ],
      "metadata": {
        "id": "6L6qR5aB3B7m"
      }
    },
    {
      "cell_type": "code",
      "source": [
        "import numpy as np\n",
        "myArr = np.array([10, 20, 30, 40], dtype='S')\n",
        "print(myArr.dtype)"
      ],
      "metadata": {
        "colab": {
          "base_uri": "https://localhost:8080/"
        },
        "id": "PF-_4q4t3eq1",
        "outputId": "9348bead-9f0a-47bd-fa43-90adda5211b2"
      },
      "execution_count": null,
      "outputs": [
        {
          "output_type": "stream",
          "name": "stdout",
          "text": [
            "|S2\n"
          ]
        }
      ]
    },
    {
      "cell_type": "markdown",
      "source": [
        "“dtype='S” sets the data type of the array to be a string.“|”symbol means that it's not applicable to use the byte order symbol here.“S2” means that the array data type is String, the size of the each element is2 bytes."
      ],
      "metadata": {
        "id": "6Y3B81An4mSR"
      }
    },
    {
      "cell_type": "markdown",
      "source": [
        "**Convert Integer Type**\n",
        "\n",
        "The syntax to convert the data type of an array is:\n",
        "\n",
        "    myArr.astype(‘data_type’)"
      ],
      "metadata": {
        "id": "5LjRG-mz41Uu"
      }
    },
    {
      "cell_type": "code",
      "source": [
        "import numpy as np\n",
        "myArr = np.array([0.99, 1.99, 2.99, 3.99])\n",
        "print(myArr.dtype)\n",
        "arr = myArr.astype('i')\n",
        "print(arr)\n",
        "print(arr.dtype)"
      ],
      "metadata": {
        "colab": {
          "base_uri": "https://localhost:8080/"
        },
        "id": "oTHTC0w35D-B",
        "outputId": "f51a624a-9c69-4f6b-c275-25e383bd2866"
      },
      "execution_count": null,
      "outputs": [
        {
          "output_type": "stream",
          "name": "stdout",
          "text": [
            "float64\n",
            "[0 1 2 3]\n",
            "int32\n"
          ]
        }
      ]
    },
    {
      "cell_type": "code",
      "source": [
        "myarr=np.array([1,2,3],'S')\n",
        "print(myarr.dtype)\n",
        "arr1=myarr.astype('i')\n",
        "print(arr1.dtype)"
      ],
      "metadata": {
        "colab": {
          "base_uri": "https://localhost:8080/"
        },
        "id": "_Z74ntvE5dXz",
        "outputId": "14583c8e-d982-45f6-a700-5afbd7c0b197"
      },
      "execution_count": null,
      "outputs": [
        {
          "output_type": "stream",
          "name": "stdout",
          "text": [
            "|S1\n",
            "int32\n"
          ]
        }
      ]
    },
    {
      "cell_type": "code",
      "source": [
        "import numpy as np\n",
        "myArr = np.array([0, 1, 2, 3])\n",
        "arr = myArr.astype(bool)\n",
        "print(arr)\n",
        "print(arr.dtype)"
      ],
      "metadata": {
        "colab": {
          "base_uri": "https://localhost:8080/"
        },
        "id": "82QruFxN6A0H",
        "outputId": "9d8db979-0229-475f-c4be-2b751d43ca01"
      },
      "execution_count": null,
      "outputs": [
        {
          "output_type": "stream",
          "name": "stdout",
          "text": [
            "[False  True  True  True]\n",
            "bool\n"
          ]
        }
      ]
    },
    {
      "cell_type": "code",
      "source": [
        "#minimum dimensions\n",
        "import numpy as np\n",
        "arr=np.array([1,2.,3.],ndmin=2)\n",
        "arr"
      ],
      "metadata": {
        "colab": {
          "base_uri": "https://localhost:8080/"
        },
        "id": "XI6SGdRicWCf",
        "outputId": "951c7b87-98b1-43cb-d119-3a58ea259ca6"
      },
      "execution_count": null,
      "outputs": [
        {
          "output_type": "execute_result",
          "data": {
            "text/plain": [
              "array([[1., 2., 3.]])"
            ]
          },
          "metadata": {},
          "execution_count": 5
        }
      ]
    },
    {
      "cell_type": "code",
      "source": [
        "#type provided\n",
        "import numpy as np\n",
        "arr=np.array([12,45.,3.],dtype=complex)\n",
        "arr"
      ],
      "metadata": {
        "colab": {
          "base_uri": "https://localhost:8080/"
        },
        "id": "QZEGiL8FcyfW",
        "outputId": "427dd982-40a2-441d-cdc0-d6baa9dd1306"
      },
      "execution_count": null,
      "outputs": [
        {
          "output_type": "execute_result",
          "data": {
            "text/plain": [
              "array([12.+0.j, 45.+0.j,  3.+0.j])"
            ]
          },
          "metadata": {},
          "execution_count": 6
        }
      ]
    },
    {
      "cell_type": "code",
      "source": [
        "#creating an array from sub-classes\n",
        "import numpy as np\n",
        "arr1=np.array(np.mat('1 2;3 4'))\n",
        "arr2=np.array(np.mat('1 2;3 4'),subok=True)\n",
        "# arr1\n",
        "arr2"
      ],
      "metadata": {
        "colab": {
          "base_uri": "https://localhost:8080/"
        },
        "id": "ESDcj9yIc9VW",
        "outputId": "95c4c15e-c7a9-457c-ac68-3e1b3af522a9"
      },
      "execution_count": null,
      "outputs": [
        {
          "output_type": "execute_result",
          "data": {
            "text/plain": [
              "matrix([[1, 2],\n",
              "        [3, 4]])"
            ]
          },
          "metadata": {},
          "execution_count": 4
        }
      ]
    },
    {
      "cell_type": "code",
      "source": [
        "#create an array filled with 0’s\n",
        "array1=np.zeros(2)\n",
        "print(array1)\n",
        "\n",
        "#or an array filled with ones\n",
        "array2=np.ones(3)\n",
        "print(array2)"
      ],
      "metadata": {
        "id": "EZfm5cOdiDU_",
        "colab": {
          "base_uri": "https://localhost:8080/"
        },
        "outputId": "7077f1e2-35fd-47d3-aceb-fbfcd8a6f222"
      },
      "execution_count": null,
      "outputs": [
        {
          "output_type": "stream",
          "name": "stdout",
          "text": [
            "[0. 0.]\n",
            "[1. 1. 1.]\n"
          ]
        }
      ]
    },
    {
      "cell_type": "code",
      "source": [
        "#create an empty array\n",
        "a1=np.empty(4)\n",
        "print(a1)"
      ],
      "metadata": {
        "colab": {
          "base_uri": "https://localhost:8080/"
        },
        "id": "9LQ173TTzUSJ",
        "outputId": "880ac467-e4f0-45ef-85cf-8f2d1246391b"
      },
      "execution_count": null,
      "outputs": [
        {
          "output_type": "stream",
          "name": "stdout",
          "text": [
            "[4.9e-324 9.9e-324 1.5e-323 2.0e-323]\n"
          ]
        }
      ]
    },
    {
      "cell_type": "markdown",
      "source": [
        "The function empty creates an array whose initial content is random and depends on the state of the memory. The reason to use empty over zeros (or something similar) is speed - just make sure to fill every element afterwards!"
      ],
      "metadata": {
        "id": "1gn9wJ150CrY"
      }
    },
    {
      "cell_type": "markdown",
      "source": [
        "**Zero-Dimensional Array**\n",
        "\n",
        "A Zero-Dimensional array is called a scalar, its element is only a value.The syntax to create a zero-dimensional array is:\n",
        "\n",
        "    myArray = np.array(value)"
      ],
      "metadata": {
        "id": "-vXxbyX3eqav"
      }
    },
    {
      "cell_type": "code",
      "source": [
        "import numpy as np\n",
        "myArray = np.array(100)\n",
        "print(myArray)   #np.array(100)” creates a zero-dimensional array with a value 100."
      ],
      "metadata": {
        "colab": {
          "base_uri": "https://localhost:8080/"
        },
        "id": "IxGYYyqEfEWO",
        "outputId": "0877dc95-9e43-4df1-832c-36be643181e8"
      },
      "execution_count": null,
      "outputs": [
        {
          "output_type": "stream",
          "name": "stdout",
          "text": [
            "100\n"
          ]
        }
      ]
    },
    {
      "cell_type": "code",
      "source": [
        "arr1=np.array(45)\n",
        "arr1"
      ],
      "metadata": {
        "colab": {
          "base_uri": "https://localhost:8080/"
        },
        "id": "ZL1fBJxTfS70",
        "outputId": "27e5eebe-3ee6-4ec1-a55a-813546e2f82c"
      },
      "execution_count": null,
      "outputs": [
        {
          "output_type": "execute_result",
          "data": {
            "text/plain": [
              "array(45)"
            ]
          },
          "metadata": {},
          "execution_count": 4
        }
      ]
    },
    {
      "cell_type": "code",
      "source": [
        "#create an array with range of elements\n",
        "\n",
        "a1=np.arange(5)\n",
        "#array that contains a range of evenly spaced intervals. To do this, you will specify the first number, last number, and the step size\n",
        "a2=np.arange(2,9,2)\n",
        "print(a1)\n",
        "print(a2)"
      ],
      "metadata": {
        "colab": {
          "base_uri": "https://localhost:8080/"
        },
        "id": "M7NrDp_cz65s",
        "outputId": "2523865c-7ffe-449b-8fc9-d28ef7283fd0"
      },
      "execution_count": null,
      "outputs": [
        {
          "output_type": "stream",
          "name": "stdout",
          "text": [
            "[0 1 2 3 4]\n",
            "[2 4 6 8]\n"
          ]
        }
      ]
    },
    {
      "cell_type": "code",
      "source": [
        "#create an array with values that are spaced linearly in a specified interval,number=no of samples\n",
        "\n",
        "a1=np.linspace(0,10,num=7)\n",
        "print(a1)"
      ],
      "metadata": {
        "colab": {
          "base_uri": "https://localhost:8080/"
        },
        "id": "PTQMmg5V0Vbw",
        "outputId": "c2e953e1-2fdf-4a44-b265-4bb098348ac4"
      },
      "execution_count": null,
      "outputs": [
        {
          "output_type": "stream",
          "name": "stdout",
          "text": [
            "[ 0.          1.66666667  3.33333333  5.          6.66666667  8.33333333\n",
            " 10.        ]\n"
          ]
        }
      ]
    },
    {
      "cell_type": "markdown",
      "source": [
        "**Two-Dimensional Array**\n",
        "\n",
        "A Two-Dimensional Array contains multiple one-dimensional arrays.The syntax to create a two-dimensional array is:\n",
        "\n",
        "    myArray = np.array( [ [v1, v2, v3] , [v4, v5, v6] ] )"
      ],
      "metadata": {
        "id": "VL7BNY-Xfwwm"
      }
    },
    {
      "cell_type": "code",
      "source": [
        "import numpy as np\n",
        "myArray = np.array([[0, 1, 2], [3, 4, 5]])\n",
        "print(myArray)"
      ],
      "metadata": {
        "colab": {
          "base_uri": "https://localhost:8080/"
        },
        "id": "YZFZwPmif4J1",
        "outputId": "a370662a-c109-4fc7-ec0d-752843d66fff"
      },
      "execution_count": null,
      "outputs": [
        {
          "output_type": "stream",
          "name": "stdout",
          "text": [
            "[[0 1 2]\n",
            " [3 4 5]]\n"
          ]
        }
      ]
    },
    {
      "cell_type": "markdown",
      "source": [
        "**Three-Dimensional Array**\n",
        "\n",
        "A Three-Dimensional Array contains multiple two-dimensional arrays.The syntax to create a three-dimensional array is:\n",
        "\n",
        "    myArr = np.array( [[[v1, v2, v3] , [v4, v5, v6], [v7, v8, v9]]] )"
      ],
      "metadata": {
        "id": "GzIe0jxlgGqM"
      }
    },
    {
      "cell_type": "code",
      "source": [
        "import numpy as np\n",
        "myArr = np.array([[[0,1,2], [3,4,5], [6,7,8]]])\n",
        "print(myArr)"
      ],
      "metadata": {
        "colab": {
          "base_uri": "https://localhost:8080/"
        },
        "id": "TNH6FjEggS2H",
        "outputId": "5385d934-a310-416a-e495-0d6a54249e5b"
      },
      "execution_count": null,
      "outputs": [
        {
          "output_type": "stream",
          "name": "stdout",
          "text": [
            "[[[0 1 2]\n",
            "  [3 4 5]\n",
            "  [6 7 8]]]\n"
          ]
        }
      ]
    },
    {
      "cell_type": "code",
      "source": [
        "#sorting elements\n",
        "a1=np.array([5,4,6,8,1])\n",
        "np.sort(a1)"
      ],
      "metadata": {
        "colab": {
          "base_uri": "https://localhost:8080/"
        },
        "id": "10kpDwsW1Pqx",
        "outputId": "49f1a601-926c-4ebf-9f17-d36d1293a5ea"
      },
      "execution_count": null,
      "outputs": [
        {
          "output_type": "execute_result",
          "data": {
            "text/plain": [
              "array([1, 4, 5, 6, 8])"
            ]
          },
          "metadata": {},
          "execution_count": 18
        }
      ]
    },
    {
      "cell_type": "markdown",
      "source": [
        "In addition to sort, which returns a sorted copy of an array, you can use:\n",
        "\n",
        "\n",
        "**argsort**- which is an indirect sort along a specified axis\n",
        "\n",
        "\n",
        "\n",
        "**lexsort**- which is an indirect stable sort on multiple keys.\n",
        "\n",
        "**searchsorted**-  which will find elements in a sorted array.\n",
        "\n",
        "**partition**-  which is a partial sort."
      ],
      "metadata": {
        "id": "UKLBw01P2TH-"
      }
    },
    {
      "cell_type": "code",
      "source": [
        "a = np.array([1, 2, 3, 4])\n",
        "b = np.array([5, 6, 7, 8])\n",
        "#You can concatenate them with np.concatenate().\n",
        "\n",
        "np.concatenate((a, b))"
      ],
      "metadata": {
        "colab": {
          "base_uri": "https://localhost:8080/"
        },
        "id": "Dr642NHG2IAe",
        "outputId": "f1c9c318-b872-4af1-e8fd-53fa7a6fa302"
      },
      "execution_count": null,
      "outputs": [
        {
          "output_type": "execute_result",
          "data": {
            "text/plain": [
              "array([1, 2, 3, 4, 5, 6, 7, 8])"
            ]
          },
          "metadata": {},
          "execution_count": 19
        }
      ]
    },
    {
      "cell_type": "code",
      "source": [
        "x = np.array([[1, 2], [3, 4]])\n",
        "y = np.array([[5, 6]])\n",
        "#You can concatenate them with:\n",
        "\n",
        "np.concatenate((x, y.T), axis=1)"
      ],
      "metadata": {
        "colab": {
          "base_uri": "https://localhost:8080/"
        },
        "id": "ttOuMjCe3HH6",
        "outputId": "dbf6674f-8ad4-45d8-81d1-374acadf5aff"
      },
      "execution_count": null,
      "outputs": [
        {
          "output_type": "execute_result",
          "data": {
            "text/plain": [
              "array([[1, 2, 5],\n",
              "       [3, 4, 6]])"
            ]
          },
          "metadata": {},
          "execution_count": 6
        }
      ]
    },
    {
      "cell_type": "markdown",
      "source": [
        "###How do you know the shape and size of an array?\n",
        "This section covers ndarray.ndim, ndarray.size, ndarray.shape\n",
        "\n",
        "**ndarray.ndim** will tell you the number of axes, or dimensions, of the array.\n",
        "\n",
        "**ndarray.size** will tell you the total number of elements of the array. This is the product of the elements of the array’s shape.\n",
        "\n",
        "**ndarray.shape** will display a tuple of integers that indicate the number of elements stored along each dimension of the array. If, for example, you have a 2-D array with 2 rows and 3 columns, the shape of your array is (2, 3)."
      ],
      "metadata": {
        "id": "TVbdklhe33eA"
      }
    },
    {
      "cell_type": "code",
      "source": [
        "array_example = np.array([[[0, 1, 2, 3],\n",
        "                           [4, 5, 6, 7]],\n",
        "\n",
        "                          [[0, 1, 2, 3],\n",
        "                           [4, 5, 6, 7]],\n",
        "\n",
        "                          [[0 ,1 ,2, 3],\n",
        "                           [4, 5, 6, 7]]])"
      ],
      "metadata": {
        "id": "BQjaF9rZ4HRc"
      },
      "execution_count": null,
      "outputs": []
    },
    {
      "cell_type": "code",
      "source": [
        "array_example.ndim"
      ],
      "metadata": {
        "colab": {
          "base_uri": "https://localhost:8080/"
        },
        "id": "TntFYtQn4O4X",
        "outputId": "e4005429-9811-4399-93ed-eb2f6ac2d7f5"
      },
      "execution_count": null,
      "outputs": [
        {
          "output_type": "execute_result",
          "data": {
            "text/plain": [
              "3"
            ]
          },
          "metadata": {},
          "execution_count": 23
        }
      ]
    },
    {
      "cell_type": "code",
      "source": [
        "import numpy as np\n",
        "arr0 = np.array(100)      # 0d array\n",
        "arr1 = np.array([0, 1, 2, 3, 4, 5])      # 1d array\n",
        "arr2 = np.array([[0, 1, 2], [3, 4, 5,]])      # 2d array\n",
        "arr3 = np.array([[[0,1,2], [3,4,5], [6,7,8]]])      # 3d array\n",
        "print(arr0.ndim)\n",
        "print(arr1.ndim)\n",
        "print(arr2.ndim)\n",
        "print(arr3.ndim)"
      ],
      "metadata": {
        "colab": {
          "base_uri": "https://localhost:8080/"
        },
        "id": "3E1KZianhdl9",
        "outputId": "c95ffcbc-bbcc-417c-9773-8fdf9364d67b"
      },
      "execution_count": null,
      "outputs": [
        {
          "output_type": "stream",
          "name": "stdout",
          "text": [
            "0\n",
            "1\n",
            "2\n",
            "3\n"
          ]
        }
      ]
    },
    {
      "cell_type": "markdown",
      "source": [
        "**nditer()**\n",
        "\n",
        "To get each actual element value (scalar), we can use nditer() to iterate\n",
        "through all elements in the array. The syntax is:\n",
        "\n",
        "    nditer(myArray)"
      ],
      "metadata": {
        "id": "_j4G07TEu3Vw"
      }
    },
    {
      "cell_type": "code",
      "source": [
        "import numpy as np\n",
        "myArr = np. array([[10, 11, 12], [13, 14, 15]])\n",
        "for num in np.nditer(myArr):      # myArr is a 2d array\n",
        "print(num)"
      ],
      "metadata": {
        "id": "QwWNIVxEv7su"
      },
      "execution_count": null,
      "outputs": []
    },
    {
      "cell_type": "markdown",
      "source": [
        "**Access Two-Dimensional Array**\n",
        "\n",
        "\n",
        "We can access a two-dimensional array by index.A two-dimensional array contains multiple rows and columns.The syntax to access a 2-d array with rows and columns is:\n",
        "\n",
        "    myArray[ row, col ]"
      ],
      "metadata": {
        "id": "8iChPek_wZd0"
      }
    },
    {
      "cell_type": "code",
      "source": [
        "import numpy as np\n",
        "arr = np.array([[10,11,12,13,14], [15,16,17,18,19]])\n",
        "print ('The value in row 0 and col 3 is:', arr[0,3])\n",
        "print ('The value in row 1 and col 2 is:', arr[1,2])"
      ],
      "metadata": {
        "colab": {
          "base_uri": "https://localhost:8080/"
        },
        "id": "sx3-J2odwY4z",
        "outputId": "6d9860e7-99c0-48d7-9b9c-e051c2f0ce67"
      },
      "execution_count": null,
      "outputs": [
        {
          "output_type": "stream",
          "name": "stdout",
          "text": [
            "The value in row 0 and col 3 is: 13\n",
            "The value in row 1 and col 2 is: 17\n"
          ]
        }
      ]
    },
    {
      "cell_type": "markdown",
      "source": [
        "**Iterating with Step**\n",
        "\n",
        " Length Iterating with step length is mainly used in the 2-d array.The syntax of the step length is:\n",
        "\n",
        "    nditer( myArr[ :,: :step ] )"
      ],
      "metadata": {
        "id": "CCIQMNpkOdWu"
      }
    },
    {
      "cell_type": "code",
      "source": [
        "import numpy as np\n",
        "myArr = np.array([[10, 11, 12, 13], [14, 15, 16, 17]])\n",
        "for num in np.nditer(myArr[:,: :2]):\n",
        "  print(num)\n",
        "\n",
        "#“nditer(myArr[:,::2])” sets up a step length, by which NumPy Iteratingthrough every scalar element of the array, each step skips 1 element."
      ],
      "metadata": {
        "colab": {
          "base_uri": "https://localhost:8080/"
        },
        "id": "P--vSmwBO1pG",
        "outputId": "85ea81c7-10d6-4935-de36-e9855cabb6f5"
      },
      "execution_count": null,
      "outputs": [
        {
          "output_type": "stream",
          "name": "stdout",
          "text": [
            "10\n",
            "12\n",
            "14\n",
            "16\n"
          ]
        }
      ]
    },
    {
      "cell_type": "markdown",
      "source": [
        "**Enumerating the Array**\n",
        "\n",
        "We can specify a sequence number to each element in an array.\n",
        "\n",
        "    ndenumerate(myArray)"
      ],
      "metadata": {
        "id": "LDE2ExuiRvqh"
      }
    },
    {
      "cell_type": "code",
      "source": [
        "import numpy as np\n",
        "myArr = np.array([0, 1, 2, 3])\n",
        "for id, num in np.ndenumerate(myArr):\n",
        "  print(id, num)"
      ],
      "metadata": {
        "colab": {
          "base_uri": "https://localhost:8080/"
        },
        "id": "y1TNrbhwR8po",
        "outputId": "60917ca6-986b-4261-910a-f588d441ee59"
      },
      "execution_count": null,
      "outputs": [
        {
          "output_type": "stream",
          "name": "stdout",
          "text": [
            "(0,) 0\n",
            "(1,) 1\n",
            "(2,) 2\n",
            "(3,) 3\n"
          ]
        }
      ]
    },
    {
      "cell_type": "markdown",
      "source": [
        "**Last Index**\n",
        "\n",
        "We can use “-1” to represent the last index.\n",
        "\n",
        "    myArray[-1, -1]       # access the last row and the last col"
      ],
      "metadata": {
        "id": "2lkavHHBw6c5"
      }
    },
    {
      "cell_type": "code",
      "source": [
        "import numpy as np\n",
        "arr = np.array([[10,11,12,13,14], [15,16,17,18,19]])\n",
        "print('The value in row 0 and the last col is:', arr[0,-1])\n",
        "print('The value in the last row and col 2 is:', arr[-1,2])\n",
        "print('The value in the last row & the last col is:', arr[-1,-1])"
      ],
      "metadata": {
        "colab": {
          "base_uri": "https://localhost:8080/"
        },
        "id": "0amsDwFOx4fA",
        "outputId": "64f35f11-940e-4727-fe4f-5ef4361d6571"
      },
      "execution_count": null,
      "outputs": [
        {
          "output_type": "stream",
          "name": "stdout",
          "text": [
            "The value in row 0 and the last col is: 14\n",
            "The value in the last row and col 2 is: 17\n",
            "The value in the last row & the last col is: 19\n"
          ]
        }
      ]
    },
    {
      "cell_type": "code",
      "source": [
        "array_example.size"
      ],
      "metadata": {
        "colab": {
          "base_uri": "https://localhost:8080/"
        },
        "id": "awkgCFkS4V4N",
        "outputId": "dd777825-06b5-4614-8628-c639aa08d29a"
      },
      "execution_count": null,
      "outputs": [
        {
          "output_type": "execute_result",
          "data": {
            "text/plain": [
              "24"
            ]
          },
          "metadata": {},
          "execution_count": 24
        }
      ]
    },
    {
      "cell_type": "code",
      "source": [
        "array_example.shape # 2 rows,3 matrix,4 column"
      ],
      "metadata": {
        "colab": {
          "base_uri": "https://localhost:8080/"
        },
        "id": "umdC4s-g4bVI",
        "outputId": "7a9486cd-4d22-4ca8-b6ca-8f7844b070f5"
      },
      "execution_count": null,
      "outputs": [
        {
          "output_type": "execute_result",
          "data": {
            "text/plain": [
              "(3, 2, 4)"
            ]
          },
          "metadata": {},
          "execution_count": 25
        }
      ]
    },
    {
      "cell_type": "code",
      "source": [
        "a = np.array([[1 , 2, 3, 4], [5, 6, 7, 8], [9, 10, 11, 12]])\n",
        "a.shape"
      ],
      "metadata": {
        "colab": {
          "base_uri": "https://localhost:8080/"
        },
        "id": "NAYPnRFcCAxn",
        "outputId": "3428248a-7d96-4a7b-ec37-501cd973a8e5"
      },
      "execution_count": null,
      "outputs": [
        {
          "output_type": "execute_result",
          "data": {
            "text/plain": [
              "(3, 4)"
            ]
          },
          "metadata": {},
          "execution_count": 40
        }
      ]
    },
    {
      "cell_type": "code",
      "source": [
        "import numpy as np\n",
        "myArr = np.array([1, 2, 3, 4, 5,6], ndmin=3)\n",
        "print(myArr)\n",
        "print('The array shape is:', myArr.shape)"
      ],
      "metadata": {
        "colab": {
          "base_uri": "https://localhost:8080/"
        },
        "id": "C5g8eXh9A3bB",
        "outputId": "d3edffe4-4c8d-4e3a-c976-c60763cdd094"
      },
      "execution_count": null,
      "outputs": [
        {
          "output_type": "stream",
          "name": "stdout",
          "text": [
            "[[[1 2 3 4 5 6]]]\n",
            "The array shape is: (1, 1, 6)\n"
          ]
        }
      ]
    },
    {
      "cell_type": "code",
      "source": [
        "import numpy as np\n",
        "myArr = np.array([[0,1,2,3],[4,5,6,7],[2,4,6,8]])\n",
        "print(myArr.shape)"
      ],
      "metadata": {
        "colab": {
          "base_uri": "https://localhost:8080/"
        },
        "id": "HWJukMvgAuDP",
        "outputId": "0a003da6-d9c7-4ce5-c106-a63d81739239"
      },
      "execution_count": null,
      "outputs": [
        {
          "output_type": "stream",
          "name": "stdout",
          "text": [
            "(3, 4)\n"
          ]
        }
      ]
    },
    {
      "cell_type": "markdown",
      "source": [
        "**High Dimension Array **\n",
        "\n",
        "The syntax to define a higher dimension array is:\n",
        "\n",
        "ndmin = number\n",
        "\n",
        "The “number” means how many dimensions in an array."
      ],
      "metadata": {
        "id": "92bknaSOgotW"
      }
    },
    {
      "cell_type": "code",
      "source": [
        "import numpy as np\n",
        "# define 3d array\n",
        "arr3 = np.array([ 0, 1, 2, 3 ], ndmin=3)\n",
        "# define 4th array\n",
        "arr4 = np.array([ 0, 1, 2, 3 ], ndmin=4)\n",
        "# define 5th array\n",
        "arr5 = np.array([ 0, 1, 2, 3 ], ndmin=5)\n",
        "\n",
        "print(arr3)\n",
        "print(arr4)\n",
        "print(arr5)"
      ],
      "metadata": {
        "colab": {
          "base_uri": "https://localhost:8080/"
        },
        "id": "sLO6xOcMgoQI",
        "outputId": "db3e358b-8f4e-4923-e90c-9c251c7c4e0d"
      },
      "execution_count": null,
      "outputs": [
        {
          "output_type": "stream",
          "name": "stdout",
          "text": [
            "[[[0 1 2 3]]]\n",
            "[[[[0 1 2 3]]]]\n",
            "[[[[[0 1 2 3]]]]]\n"
          ]
        }
      ]
    },
    {
      "cell_type": "markdown",
      "source": [
        "**How to reshape an array**\n",
        "\n",
        "Using arr.reshape() will give a new shape to an array without changing the data. Just remember that when you use the reshape method, the array you want to produce needs to have the same number of elements as the original array"
      ],
      "metadata": {
        "id": "BishH2nX5vHe"
      }
    },
    {
      "cell_type": "code",
      "source": [
        "a = np.arange(6)\n",
        "print(a)\n",
        "b = a.reshape(3, 2)\n",
        "print(b)"
      ],
      "metadata": {
        "colab": {
          "base_uri": "https://localhost:8080/"
        },
        "id": "7_f26RjU4fDD",
        "outputId": "8aaf2d20-f759-4b31-c1f8-3a89537dce1b"
      },
      "execution_count": null,
      "outputs": [
        {
          "output_type": "stream",
          "name": "stdout",
          "text": [
            "[0 1 2 3 4 5]\n",
            "[[0 1]\n",
            " [2 3]\n",
            " [4 5]]\n"
          ]
        }
      ]
    },
    {
      "cell_type": "code",
      "source": [
        "import numpy as np\n",
        "myArr = np.array([0, 1, 2, 3, 4, 5, 6, 7, 8, 9, 10, 11])\n",
        "newArr = myArr.reshape(3, 4)\n",
        "print(newArr)"
      ],
      "metadata": {
        "colab": {
          "base_uri": "https://localhost:8080/"
        },
        "id": "llt_yxCLBLNg",
        "outputId": "4fea0ac4-7cc7-4352-8fa3-281f5c362f9b"
      },
      "execution_count": null,
      "outputs": [
        {
          "output_type": "stream",
          "name": "stdout",
          "text": [
            "[[ 0  1  2  3]\n",
            " [ 4  5  6  7]\n",
            " [ 8  9 10 11]]\n"
          ]
        }
      ]
    },
    {
      "cell_type": "code",
      "source": [
        "import numpy as np\n",
        "myArr = np.array([0, 1, 2, 3, 4, 5, 6, 7, 8, 9, 10, 11])\n",
        "newArr = myArr.reshape(3, 4)\n",
        "print(newArr)"
      ],
      "metadata": {
        "colab": {
          "base_uri": "https://localhost:8080/"
        },
        "id": "m6FqvVmRJymO",
        "outputId": "bb05dfb4-d6a4-4870-c7ce-134e07b0dd7f"
      },
      "execution_count": null,
      "outputs": [
        {
          "output_type": "stream",
          "name": "stdout",
          "text": [
            "[[ 0  1  2  3]\n",
            " [ 4  5  6  7]\n",
            " [ 8  9 10 11]]\n"
          ]
        }
      ]
    },
    {
      "cell_type": "code",
      "source": [
        "import numpy as np\n",
        "myArr = np.array([0, 1, 2, 3, 4, 5, 6, 7, 8, 9, 10, 11])\n",
        "newArr = myArr.reshape(2, 2, 3)\n",
        "print(newArr)"
      ],
      "metadata": {
        "colab": {
          "base_uri": "https://localhost:8080/"
        },
        "id": "tWbNOxEkJ-k3",
        "outputId": "ab6f4aa3-1b8e-49b5-c441-1b0b1055657c"
      },
      "execution_count": null,
      "outputs": [
        {
          "output_type": "stream",
          "name": "stdout",
          "text": [
            "[[[ 0  1  2]\n",
            "  [ 3  4  5]]\n",
            "\n",
            " [[ 6  7  8]\n",
            "  [ 9 10 11]]]\n"
          ]
        }
      ]
    },
    {
      "cell_type": "markdown",
      "source": [
        "The result is a 3-d array, which contains two 2-d arrays with 2 rows ofelements and 3 columns of elements."
      ],
      "metadata": {
        "id": "xWXMUAh5Mvtg"
      }
    },
    {
      "cell_type": "markdown",
      "source": [
        "Reshape Requirement\n",
        "\n",
        "The requirement of the array reshape is:The number of elements in the original array must equal the product ofthe dimensions."
      ],
      "metadata": {
        "id": "QyWqkd7NNNtr"
      }
    },
    {
      "cell_type": "code",
      "source": [
        "arr.reshape( 2, 6 )      # 2*6=12\n",
        "arr.reshape( 3, 4 )      # 3*4=12\n",
        "arr.reshape( 4, 3 )      # 4*3=12\n",
        "#......\n",
        "#When it is reshaped to a 3-d array:\n",
        "#we can use:\n",
        "arr.reshape( 1, 3, 4 )     # 1*3*4=12\n",
        "arr.reshape( 2, 3, 2 )     # 2*3*2=12\n",
        "arr.reshape( 3, 2, 2 )     # 3*2*2=12......"
      ],
      "metadata": {
        "id": "A8E3MsWcM5Rl"
      },
      "execution_count": null,
      "outputs": []
    },
    {
      "cell_type": "markdown",
      "source": [
        "**Unknown Dimension**\n",
        "\n",
        "If we do not specify an exact number for one of the dimensions in thereshape method, we can use “-1” as a parameter.NumPy will calculate thisnumber automatically.Three syntaxes are:\n",
        "\n",
        "* arr.reshape( -1, rows, columns )\n",
        "\n",
        "* arr.reshape( layer, -1, columns )\n",
        "\n",
        "* arr.reshape( layer, rows, -1)"
      ],
      "metadata": {
        "id": "Y9zuwwJeNcrV"
      }
    },
    {
      "cell_type": "code",
      "source": [
        "import numpy as np\n",
        "myArr = np.array([1, 2, 3, 4, 5, 6, 7, 8, 9, 10, 11, 12])\n",
        "newArr = myArr.reshape( -1, 2, 3 )\n",
        "print(newArr)"
      ],
      "metadata": {
        "colab": {
          "base_uri": "https://localhost:8080/"
        },
        "id": "fFjQCqntT3hM",
        "outputId": "d91e68f9-625c-4872-9c18-a3a6edc4c36c"
      },
      "execution_count": null,
      "outputs": [
        {
          "output_type": "stream",
          "name": "stdout",
          "text": [
            "[[[ 1  2  3]\n",
            "  [ 4  5  6]]\n",
            "\n",
            " [[ 7  8  9]\n",
            "  [10 11 12]]]\n"
          ]
        }
      ]
    },
    {
      "cell_type": "code",
      "source": [
        "b=np.reshape(a, newshape=(1, 6), order='C')\n",
        "print(b)\n"
      ],
      "metadata": {
        "colab": {
          "base_uri": "https://localhost:8080/"
        },
        "id": "R2bpB2tV57rb",
        "outputId": "6b4afaec-7ca8-44ed-b88d-eba97a47f4eb"
      },
      "execution_count": null,
      "outputs": [
        {
          "output_type": "stream",
          "name": "stdout",
          "text": [
            "[[0 1 2 3 4 5]]\n"
          ]
        }
      ]
    },
    {
      "cell_type": "markdown",
      "source": [
        "**newshape** is the new shape you want. You can specify an integer or a tuple of integers. If you specify an integer, the result will be an array of that length. The shape should be compatible with the original shape.\n",
        "\n",
        "**order**: C means to read/write the elements using C-like index order, F means to read/write the elements using Fortran-like index order, A means to read/write the elements in Fortran-like index order if a is Fortran contiguous in memory, C-like order otherwise. (This is an optional parameter and doesn’t need to be specified.)\n",
        "\n",
        " Essentially, C and Fortran orders have to do with how indices correspond to the order the array is stored in memory. In **Fortran**, when moving through the elements of a two-dimensional array as it is stored in memory, the **first index** is the most rapidly varying index. As the first index moves to the next row as it changes, the matrix is stored one column at a time. This is why Fortran is thought of as a **Column-major language**. In C on the other hand, the **last index** changes the most rapidly. The matrix is stored by rows, making it a **Row-major language**."
      ],
      "metadata": {
        "id": "Ze2J0RKB9e8K"
      }
    },
    {
      "cell_type": "markdown",
      "source": [
        "**Flattening Array**\n",
        "\n",
        " means reshaping the multiple dimensional array to a 1-darray.The syntax to reshape an array into a 1-d array is:\n",
        "\n",
        "    myArr.reshape(-1)"
      ],
      "metadata": {
        "id": "y3QdIe59eME_"
      }
    },
    {
      "cell_type": "code",
      "source": [
        "import numpy as np\n",
        "myArr = np.array([[1,2,3], [4,5,6], [7,8,9]])\n",
        "newArr = myArr.reshape(-1)\n",
        "print(newArr)"
      ],
      "metadata": {
        "colab": {
          "base_uri": "https://localhost:8080/"
        },
        "id": "wjCAy5P8eLFh",
        "outputId": "41f71cf6-46ae-427f-df53-b5571c784f0d"
      },
      "execution_count": null,
      "outputs": [
        {
          "output_type": "stream",
          "name": "stdout",
          "text": [
            "[1 2 3 4 5 6 7 8 9]\n"
          ]
        }
      ]
    },
    {
      "cell_type": "code",
      "source": [
        "import numpy as np\n",
        "myArr = np.array([10, 11, 12])\n",
        "for num in myArr:\n",
        "  print(num)\n",
        "\n",
        "myArr1 = np.array([[10, 11, 12], [13, 14, 15]])\n",
        "for num1 in myArr1:\n",
        "  print(num1)"
      ],
      "metadata": {
        "colab": {
          "base_uri": "https://localhost:8080/"
        },
        "id": "OBOTK762ezD1",
        "outputId": "aa51abbb-9082-4e2e-a19c-b62d208bbbc7"
      },
      "execution_count": null,
      "outputs": [
        {
          "output_type": "stream",
          "name": "stdout",
          "text": [
            "10\n",
            "11\n",
            "12\n",
            "[10 11 12]\n",
            "[13 14 15]\n"
          ]
        }
      ]
    },
    {
      "cell_type": "markdown",
      "source": [
        "###How to convert a 1D array into a 2D array (how to add a new axis to an array)\n",
        "You can use **np.newaxis** and **np.expand_dims** to increase the dimensions of your existing array.\n",
        "\n",
        "Using np.newaxis will increase the dimensions of your array by one dimension when used once. This means that a 1D array will become a 2D array, a 2D array will become a 3D array, and so on."
      ],
      "metadata": {
        "id": "ZTc2U60c-a-N"
      }
    },
    {
      "cell_type": "code",
      "source": [
        "a = np.array([1, 2, 3, 4, 5])\n",
        "print(a.shape)\n",
        "a2 = a[np.newaxis, :]\n",
        "print(a2.shape)\n"
      ],
      "metadata": {
        "colab": {
          "base_uri": "https://localhost:8080/"
        },
        "id": "jexntMbv74M4",
        "outputId": "e98e8136-b4f2-4013-b407-060f3cbc03b4"
      },
      "execution_count": null,
      "outputs": [
        {
          "output_type": "stream",
          "name": "stdout",
          "text": [
            "(5,)\n",
            "(1, 5)\n"
          ]
        }
      ]
    },
    {
      "cell_type": "code",
      "source": [
        "  #You can explicitly convert a 1D array with either a row vector or a column vector using np.newaxis.\n",
        "  #For example, you can convert a 1D array to a row vector by inserting an axis along the first dimension:\n",
        "row_vector = a[np.newaxis, :]\n",
        "\n",
        "print(row_vector)\n",
        "print(row_vector.shape)\n",
        "\n",
        "  #for a column vector, you can insert an axis along the second dimension:\n",
        "col_vector = a[:, np.newaxis]\n",
        "\n",
        "print(col_vector)\n",
        "print(col_vector.shape)"
      ],
      "metadata": {
        "colab": {
          "base_uri": "https://localhost:8080/"
        },
        "id": "2hTDbayJ-_M6",
        "outputId": "9a8be9c8-1337-4d76-ea14-46d8ec5777b4"
      },
      "execution_count": null,
      "outputs": [
        {
          "output_type": "stream",
          "name": "stdout",
          "text": [
            "[[1 2 3 4 5]]\n",
            "(1, 5)\n",
            "[[1]\n",
            " [2]\n",
            " [3]\n",
            " [4]\n",
            " [5]]\n",
            "(5, 1)\n"
          ]
        }
      ]
    },
    {
      "cell_type": "code",
      "source": [
        "#You can use np.expand_dims to add an axis at index position 1 with\n",
        "b = np.expand_dims(a, axis=1)\n",
        "print(b.shape)\n",
        "c = np.expand_dims(a, axis=0)\n",
        "print(c.shape)"
      ],
      "metadata": {
        "colab": {
          "base_uri": "https://localhost:8080/"
        },
        "id": "xLThFveP_dYx",
        "outputId": "2864e8fb-2bfc-46ca-fb2f-ac6f723300f1"
      },
      "execution_count": null,
      "outputs": [
        {
          "output_type": "stream",
          "name": "stdout",
          "text": [
            "(5, 1)\n",
            "(1, 5)\n"
          ]
        }
      ]
    },
    {
      "cell_type": "markdown",
      "source": [
        "**Indexing and slicing**"
      ],
      "metadata": {
        "id": "5xDsgk5VBQBZ"
      }
    },
    {
      "cell_type": "code",
      "source": [
        "data = np.array([1, 2, 3])\n",
        "\n",
        "print(data[1])\n",
        "print(data[0:2])\n",
        "print(data[1:])\n",
        "print(data[-2:])"
      ],
      "metadata": {
        "colab": {
          "base_uri": "https://localhost:8080/"
        },
        "id": "-epKeVnyA89c",
        "outputId": "8207d270-ae53-4f44-ea3d-01455db71a80"
      },
      "execution_count": null,
      "outputs": [
        {
          "output_type": "stream",
          "name": "stdout",
          "text": [
            "2\n",
            "[1 2]\n",
            "[2 3]\n",
            "[2 3]\n"
          ]
        }
      ]
    },
    {
      "cell_type": "code",
      "source": [
        "import numpy as np\n",
        "arr = np.array([10, 11, 12, 13, 14, 15, 16, 17, 18])\n",
        "print(arr[ :5])\n",
        "print(arr[5: ])"
      ],
      "metadata": {
        "colab": {
          "base_uri": "https://localhost:8080/"
        },
        "id": "P-eo2aqGzBbh",
        "outputId": "785ea6da-85ed-4d13-e52e-1b63c2fd415a"
      },
      "execution_count": null,
      "outputs": [
        {
          "output_type": "stream",
          "name": "stdout",
          "text": [
            "[10 11 12 13 14]\n",
            "[15 16 17 18]\n"
          ]
        }
      ]
    },
    {
      "cell_type": "code",
      "source": [
        "# Negative slicing\n",
        "\n",
        "import numpy as np\n",
        "arr = np.array([10, 11, 12, 13, 14, 15, 16, 17, 18])\n",
        "print(arr[-5 : -2])\n",
        "print(arr[-7 : -3])"
      ],
      "metadata": {
        "colab": {
          "base_uri": "https://localhost:8080/"
        },
        "id": "D2ItCSTpzJu0",
        "outputId": "bc72bce9-d2bb-429d-b226-081b9eef6502"
      },
      "execution_count": null,
      "outputs": [
        {
          "output_type": "stream",
          "name": "stdout",
          "text": [
            "[14 15 16]\n",
            "[12 13 14 15]\n"
          ]
        }
      ]
    },
    {
      "cell_type": "code",
      "source": [
        "#2D array slicing\n",
        "\n",
        "import numpy as np\n",
        "arr = np.array([[10, 11, 12, 13, 14], [15,16,17,18,19]])\n",
        "print(arr[0:2, 2:4])\n",
        "\n",
        "#arr[0:2, 2:4]” returns the elements from row0 to row2-1, and from col2 tocol4-1."
      ],
      "metadata": {
        "colab": {
          "base_uri": "https://localhost:8080/"
        },
        "id": "ERF-szfVzliW",
        "outputId": "593e385e-4731-4cf3-c52e-a711d3c9e475"
      },
      "execution_count": null,
      "outputs": [
        {
          "output_type": "stream",
          "name": "stdout",
          "text": [
            "[[12 13]\n",
            " [17 18]]\n"
          ]
        }
      ]
    },
    {
      "cell_type": "code",
      "source": [
        "import numpy as np\n",
        "arr = np.array([[10, 11, 12, 13, 14], [15,16,17,18,19]])\n",
        "print(arr[0, 1:4])\n",
        "print(arr[1, 2:4])"
      ],
      "metadata": {
        "colab": {
          "base_uri": "https://localhost:8080/"
        },
        "id": "dZGcElbn1Il3",
        "outputId": "f15523f0-0980-4437-dec3-b6e3e7c317e2"
      },
      "execution_count": null,
      "outputs": [
        {
          "output_type": "stream",
          "name": "stdout",
          "text": [
            "[11 12 13]\n",
            "[17 18]\n"
          ]
        }
      ]
    },
    {
      "cell_type": "code",
      "source": [
        "import numpy as np\n",
        "arr = np.array([[10, 11, 12, 13, 14], [15,16,17,18,19]])\n",
        "print(arr[0:2, 2])\n",
        "print(arr[0:1, 3])"
      ],
      "metadata": {
        "colab": {
          "base_uri": "https://localhost:8080/"
        },
        "id": "FRCCACWo1X_h",
        "outputId": "86a7ed46-cebf-41bd-ac50-f79584128f51"
      },
      "execution_count": null,
      "outputs": [
        {
          "output_type": "stream",
          "name": "stdout",
          "text": [
            "[12 17]\n",
            "[13]\n"
          ]
        }
      ]
    },
    {
      "cell_type": "code",
      "source": [
        "#print all of the values in the array that are less than 5.\n",
        "print(a[a < 5])\n",
        "\n",
        "#numbers that are equal to or greater than 5, and use that condition to index an array.\n",
        "five_up = (a >= 5)\n",
        "print(a[five_up])\n",
        "\n",
        "\n",
        "#You can select elements that are divisible by 2\n",
        "divisible_by_2 = a[a%2==0]\n",
        "print(divisible_by_2)\n",
        "\n",
        "#you can select elements that satisfy two conditions using the & and | operators:\n",
        "\n",
        "c = a[(a > 2) & (a < 11)]\n",
        "print(c)\n"
      ],
      "metadata": {
        "colab": {
          "base_uri": "https://localhost:8080/"
        },
        "id": "JaPbwHNgBhkJ",
        "outputId": "308f42aa-22a0-4ebb-d290-421800f7bb33"
      },
      "execution_count": null,
      "outputs": [
        {
          "output_type": "stream",
          "name": "stdout",
          "text": [
            "[1 2 3 4]\n",
            "[ 5  6  7  8  9 10 11 12]\n",
            "[ 2  4  6  8 10 12]\n",
            "[ 3  4  5  6  7  8  9 10]\n"
          ]
        }
      ]
    },
    {
      "cell_type": "code",
      "source": [
        "# You can also make use of the logical operators & and | in order to return boolean values that specify whether or not the values in an array fulfill a certain condition.\n",
        "# This can be useful with arrays that contain names or other categorical values.\n",
        "\n",
        "five_up = (a > 5) | (a == 5)\n",
        "print(five_up)\n",
        "\n",
        "#You can use np.nonzero() to print the indices of elements that are, for example, less than 5:\n",
        "\n",
        "b = np.nonzero(a < 5)\n",
        "print(b)"
      ],
      "metadata": {
        "colab": {
          "base_uri": "https://localhost:8080/"
        },
        "id": "0bIslguHHVxq",
        "outputId": "783605ab-f768-43b4-9015-fc69f7a76f4e"
      },
      "execution_count": null,
      "outputs": [
        {
          "output_type": "stream",
          "name": "stdout",
          "text": [
            "[[False False False False]\n",
            " [ True  True  True  True]\n",
            " [ True  True  True  True]]\n",
            "(array([0, 0, 0, 0]), array([0, 1, 2, 3]))\n"
          ]
        }
      ]
    },
    {
      "cell_type": "markdown",
      "source": [
        "In this example, a tuple of arrays was returned: one for each dimension. The first array represents the row indices where these values are found, and the second array represents the column indices where the values are found."
      ],
      "metadata": {
        "id": "rvXdA5HqIdRx"
      }
    },
    {
      "cell_type": "code",
      "source": [
        "#If you want to generate a list of coordinates where the elements exist, you can zip the arrays, iterate over the list of coordinates, and print them.\n",
        "#For example:\n",
        "\n",
        "list_of_coordinates= list(zip(b[0], b[1]))\n",
        "\n",
        "for coord in list_of_coordinates:\n",
        "    print(coord)"
      ],
      "metadata": {
        "colab": {
          "base_uri": "https://localhost:8080/"
        },
        "id": "nm61py7_IbDA",
        "outputId": "f5dd416d-a027-4dbe-f014-c9c7fad60d8b"
      },
      "execution_count": null,
      "outputs": [
        {
          "output_type": "stream",
          "name": "stdout",
          "text": [
            "(0, 0)\n",
            "(0, 1)\n",
            "(0, 2)\n",
            "(0, 3)\n"
          ]
        }
      ]
    },
    {
      "cell_type": "code",
      "source": [
        "#If the element you’re looking for doesn’t exist in the array, then the returned array of indices will be empty. For example:\n",
        "\n",
        "not_there = np.nonzero(a == 42)\n",
        "print(not_there)"
      ],
      "metadata": {
        "colab": {
          "base_uri": "https://localhost:8080/"
        },
        "id": "fTPzA9pCJAOF",
        "outputId": "a24493c0-4aab-4d16-866c-2442a8b2ecd4"
      },
      "execution_count": null,
      "outputs": [
        {
          "output_type": "stream",
          "name": "stdout",
          "text": [
            "(array([], dtype=int64), array([], dtype=int64))\n"
          ]
        }
      ]
    },
    {
      "cell_type": "markdown",
      "source": [
        "####How to create an array from existing data"
      ],
      "metadata": {
        "id": "K0FKkF23JT_B"
      }
    },
    {
      "cell_type": "code",
      "source": [
        "a = np.array([1,  2,  3,  4,  5,  6,  7,  8,  9, 10])\n",
        "#You can create a new array from a section of your array any time by specifying where you want to slice your array.\n",
        "\n",
        "arr1 = a[3:8]\n",
        "arr1"
      ],
      "metadata": {
        "colab": {
          "base_uri": "https://localhost:8080/"
        },
        "id": "lZL9PeU1Jb03",
        "outputId": "d31999f2-30b4-4340-b715-ec623017fa2f"
      },
      "execution_count": null,
      "outputs": [
        {
          "output_type": "execute_result",
          "data": {
            "text/plain": [
              "array([4, 5, 6, 7, 8])"
            ]
          },
          "metadata": {},
          "execution_count": 45
        }
      ]
    },
    {
      "cell_type": "code",
      "source": [
        "a1 = np.array([[1, 1],\n",
        "               [2, 2]])\n",
        "\n",
        "a2 = np.array([[3, 3],\n",
        "               [4, 4]])\n",
        "#You can stack them vertically with vstack:\n",
        "\n",
        "print(np.vstack((a1, a2)))\n",
        "\n",
        "#Or stack them horizontally with hstack:\n",
        "\n",
        "print(np.hstack((a1, a2)))"
      ],
      "metadata": {
        "colab": {
          "base_uri": "https://localhost:8080/"
        },
        "id": "Gv1ZvxJZJtK2",
        "outputId": "ca43de10-5632-4b72-ccd0-bc4166ef637f"
      },
      "execution_count": null,
      "outputs": [
        {
          "output_type": "stream",
          "name": "stdout",
          "text": [
            "[[1 1]\n",
            " [2 2]\n",
            " [3 3]\n",
            " [4 4]]\n",
            "[[1 1 3 3]\n",
            " [2 2 4 4]]\n"
          ]
        }
      ]
    },
    {
      "cell_type": "code",
      "source": [
        "#If you wanted to split this array into three equally shaped arrays, you would run:\n",
        "\n",
        "x = np.arange(1, 25).reshape(2, 12)\n",
        "np.hsplit(x, 3)"
      ],
      "metadata": {
        "colab": {
          "base_uri": "https://localhost:8080/"
        },
        "id": "nH4pSy4XJu6m",
        "outputId": "d1485ec8-ddd8-4b7d-941f-4d491a38b6b2"
      },
      "execution_count": null,
      "outputs": [
        {
          "output_type": "execute_result",
          "data": {
            "text/plain": [
              "[array([[ 1,  2,  3,  4],\n",
              "        [13, 14, 15, 16]]),\n",
              " array([[ 5,  6,  7,  8],\n",
              "        [17, 18, 19, 20]]),\n",
              " array([[ 9, 10, 11, 12],\n",
              "        [21, 22, 23, 24]])]"
            ]
          },
          "metadata": {},
          "execution_count": 49
        }
      ]
    },
    {
      "cell_type": "code",
      "source": [
        "#If you wanted to split your array after the third and fourth column, you’d run:\n",
        "\n",
        "np.hsplit(x, (3, 4))"
      ],
      "metadata": {
        "colab": {
          "base_uri": "https://localhost:8080/"
        },
        "id": "I6oInOvYKOrd",
        "outputId": "c56bd4f4-3352-49d1-ed2a-e8e478e4ad23"
      },
      "execution_count": null,
      "outputs": [
        {
          "output_type": "execute_result",
          "data": {
            "text/plain": [
              "[array([[ 1,  2,  3],\n",
              "        [13, 14, 15]]),\n",
              " array([[ 4],\n",
              "        [16]]),\n",
              " array([[ 5,  6,  7,  8,  9, 10, 11, 12],\n",
              "        [17, 18, 19, 20, 21, 22, 23, 24]])]"
            ]
          },
          "metadata": {},
          "execution_count": 50
        }
      ]
    },
    {
      "cell_type": "markdown",
      "source": [
        "**Copy an array**"
      ],
      "metadata": {
        "id": "WP_w69pV_aP5"
      }
    },
    {
      "cell_type": "code",
      "source": [
        "#You can use the view method to create a new array object that looks at the same data as the original array (a shallow copy).\n",
        "\n",
        "a = np.array([[1, 2, 3, 4], [5, 6, 7, 8], [9, 10, 11, 12]])\n",
        "\n",
        "#Now we create an array b1 by slicing a and modify the first element of b1. This will modify the corresponding element in a as well!\n",
        "\n",
        "b1 = a[0, :]\n",
        "print(b1)\n",
        "\n",
        "#Using the copy method will make a complete copy of the array and its data (a deep copy).\n",
        "\n",
        "b2 = a.copy()\n",
        "print(b2)\n"
      ],
      "metadata": {
        "colab": {
          "base_uri": "https://localhost:8080/"
        },
        "id": "8FfnpkA7KlLz",
        "outputId": "0198ffe2-bea7-4940-e617-76c7abe6eb1a"
      },
      "execution_count": null,
      "outputs": [
        {
          "output_type": "stream",
          "name": "stdout",
          "text": [
            "[1 2 3 4]\n",
            "[[ 1  2  3  4]\n",
            " [ 5  6  7  8]\n",
            " [ 9 10 11 12]]\n"
          ]
        }
      ]
    },
    {
      "cell_type": "code",
      "source": [
        "import numpy as np\n",
        "arr1 = np.array([0, 1, 2, 3, 4])\n",
        "# arr1 is an original array\n",
        "arr2 = arr1.view()\n",
        " # arr2 is a view\n",
        "arr2[0] = 100\n",
        "print(arr1)\n",
        "print(arr2)"
      ],
      "metadata": {
        "colab": {
          "base_uri": "https://localhost:8080/"
        },
        "id": "fd6RnQmr_5B_",
        "outputId": "f70a3a8b-2205-44b0-a746-1f9e792070f5"
      },
      "execution_count": null,
      "outputs": [
        {
          "output_type": "stream",
          "name": "stdout",
          "text": [
            "[100   1   2   3   4]\n",
            "[100   1   2   3   4]\n"
          ]
        }
      ]
    },
    {
      "cell_type": "code",
      "source": [
        "import numpy as np\n",
        "arr1 = np.array([0, 1, 2, 3, 4])    # arr1 is an original array\n",
        "arr2 =arr1.copy()       # arr2 is a new array\n",
        "arr2[0] = 100\n",
        "print(arr1)\n",
        "print(arr2)"
      ],
      "metadata": {
        "colab": {
          "base_uri": "https://localhost:8080/"
        },
        "id": "8ENDZNut8vK2",
        "outputId": "43e9b784-50ad-4536-e066-5a627cddbf53"
      },
      "execution_count": null,
      "outputs": [
        {
          "output_type": "stream",
          "name": "stdout",
          "text": [
            "[0 1 2 3 4]\n",
            "[100   1   2   3   4]\n"
          ]
        }
      ]
    },
    {
      "cell_type": "markdown",
      "source": [
        "**Check Correlation**\n",
        "\n",
        "“array.base” can check the correlation of the new array and the old array.If the newArray is copied from the oldArray, then the “newArray.base”will return “None”.\n",
        "\n",
        "If the newArray is the view of the oldArray, then the “newArray.base”will return a new array."
      ],
      "metadata": {
        "id": "m3DMz2fzARRu"
      }
    },
    {
      "cell_type": "code",
      "source": [
        "import numpy as np\n",
        "myArr = np.array([0, 1, 2, 3, 4])\n",
        "copyArr = myArr.copy()\n",
        "viewArr = myArr.view()\n",
        "print(copyArr.base)\n",
        "print(viewArr.base)"
      ],
      "metadata": {
        "colab": {
          "base_uri": "https://localhost:8080/"
        },
        "id": "KpowjPwYAQ4W",
        "outputId": "168b03e2-3024-4249-cdd3-a2c717bb4a2a"
      },
      "execution_count": null,
      "outputs": [
        {
          "output_type": "stream",
          "name": "stdout",
          "text": [
            "None\n",
            "[0 1 2 3 4]\n"
          ]
        }
      ]
    },
    {
      "cell_type": "markdown",
      "source": [
        "**Calculate the Element Values**\n",
        "\n",
        "We can calculate the element's value of an array by using the array index."
      ],
      "metadata": {
        "id": "3lpyz8eThze4"
      }
    },
    {
      "cell_type": "code",
      "source": [
        "import numpy as np\n",
        "myArray = np.array([10, 11, 12, 13, 14])\n",
        "print(myArray[0] + myArray[3])\n",
        "print(myArray[1] * myArray[2])\n",
        "print(myArray[0]/myArray[4])"
      ],
      "metadata": {
        "id": "pJBIkRvALWiW",
        "colab": {
          "base_uri": "https://localhost:8080/"
        },
        "outputId": "197f22ec-15d3-4afd-8c8a-7aa62f2eb82d"
      },
      "execution_count": null,
      "outputs": [
        {
          "output_type": "stream",
          "name": "stdout",
          "text": [
            "23\n",
            "132\n",
            "0.7142857142857143\n"
          ]
        }
      ]
    },
    {
      "cell_type": "markdown",
      "source": [
        "**Concatenating Arrays**\n",
        "\n",
        "Concatenating Arrays mean joining elements of two or more arrays into asingle array.The syntax to concatenate arrays is:\n",
        "\n",
        "    np.concatenate((array1, array2))"
      ],
      "metadata": {
        "id": "kAWKsBo1TIXE"
      }
    },
    {
      "cell_type": "code",
      "source": [
        "import numpy as np\n",
        "a1 = np.array([0, 1, 2])\n",
        "a2 = np.array([3, 4, 5])\n",
        "myArr = np.concatenate((a1, a2))\n",
        "print(myArr)"
      ],
      "metadata": {
        "colab": {
          "base_uri": "https://localhost:8080/"
        },
        "id": "IERWihy5THqS",
        "outputId": "8eddba31-2f26-474a-9942-eeb5f39d6b2e"
      },
      "execution_count": null,
      "outputs": [
        {
          "output_type": "stream",
          "name": "stdout",
          "text": [
            "[0 1 2 3 4 5]\n"
          ]
        }
      ]
    },
    {
      "cell_type": "markdown",
      "source": [
        "When concatenating two arrays, we will use a parameter “axis”.\n",
        "\n",
        "* axis = 0  join two arrays vertically axis = 1     \n",
        "* axis = 1  join two arrays horizontally"
      ],
      "metadata": {
        "id": "oyE86yoSTvfI"
      }
    },
    {
      "cell_type": "markdown",
      "source": [
        "**Stack Arrays** (axis=0)\n",
        "\n",
        "The stack() can join two arrays, but it joins two 1-d arrays to be one 2-darray, and joins two 2-d arrays to be one 3-d array.The 1st syntax to stack two arrays is:\n",
        "\n",
        "    np.stack((array1, array2), axis=0)"
      ],
      "metadata": {
        "id": "onNkdn9H7rMl"
      }
    },
    {
      "cell_type": "code",
      "source": [
        "import numpy as np\n",
        "a1 = np.array([[11,12,13], [14,15,16]])\n",
        "a2 = np.array([[21,22,23], [24,25,26]])\n",
        "myArr = np.stack((a1, a2), axis=0)\n",
        "print(myArr)"
      ],
      "metadata": {
        "colab": {
          "base_uri": "https://localhost:8080/"
        },
        "id": "BAkHGFMS7q3M",
        "outputId": "98a4cf5e-8cac-48bc-828d-719efb4b4d26"
      },
      "execution_count": null,
      "outputs": [
        {
          "output_type": "stream",
          "name": "stdout",
          "text": [
            "[[[11 12 13]\n",
            "  [14 15 16]]\n",
            "\n",
            " [[21 22 23]\n",
            "  [24 25 26]]]\n"
          ]
        }
      ]
    },
    {
      "cell_type": "code",
      "source": [],
      "metadata": {
        "id": "JPWmhAJ-764n"
      },
      "execution_count": null,
      "outputs": []
    },
    {
      "cell_type": "markdown",
      "source": [
        "Stack Arrays (**axis=1**)\n",
        "\n",
        "The stack() can join two arrays, but it joins two 1-d arrays to be one 2-darray, and joins two 2-d arrays to be one 3-d array.The 2nd syntax to stack two arrays is:\n",
        "\n",
        "    np.stack((array1, array2), axis=1)"
      ],
      "metadata": {
        "id": "i4-ZCj4G8D4n"
      }
    },
    {
      "cell_type": "code",
      "source": [
        "import numpy as np\n",
        "a1 = np.array([[11,12,13], [14,15,16]])\n",
        "a2 = np.array([[21,22,23], [24,25,26]])\n",
        "myArr = np.stack((a1, a2), axis=1)\n",
        "print(myArr)"
      ],
      "metadata": {
        "colab": {
          "base_uri": "https://localhost:8080/"
        },
        "id": "nOPA6tFB8LxH",
        "outputId": "2ff8329b-c9c2-484c-f6a3-94ab88820b24"
      },
      "execution_count": null,
      "outputs": [
        {
          "output_type": "stream",
          "name": "stdout",
          "text": [
            "[[[11 12 13]\n",
            "  [21 22 23]]\n",
            "\n",
            " [[14 15 16]\n",
            "  [24 25 26]]]\n"
          ]
        }
      ]
    },
    {
      "cell_type": "code",
      "source": [],
      "metadata": {
        "id": "QepewDcD8ScT"
      },
      "execution_count": null,
      "outputs": []
    },
    {
      "cell_type": "markdown",
      "source": [
        "Join Arrays **Vertically**\n",
        "\n",
        "The vstack() can join two arrays vertically.The syntax is:\n",
        "\n",
        "    np.vstack((array1, array2))"
      ],
      "metadata": {
        "id": "Jd48iwZe8XNM"
      }
    },
    {
      "cell_type": "code",
      "source": [
        "import numpy as np\n",
        "a1= np.array([[10,11,12],[13,14,15]])\n",
        "a2=np.array([[21,22,23],[24,25,26]])\n",
        "a3=np.vstack((a1,a2))\n",
        "print(a3)"
      ],
      "metadata": {
        "colab": {
          "base_uri": "https://localhost:8080/"
        },
        "id": "6_-sn6pq8wCV",
        "outputId": "319aa019-3199-473e-a0f5-153317b0f6ee"
      },
      "execution_count": null,
      "outputs": [
        {
          "output_type": "stream",
          "name": "stdout",
          "text": [
            "[[10 11 12]\n",
            " [13 14 15]\n",
            " [21 22 23]\n",
            " [24 25 26]]\n"
          ]
        }
      ]
    },
    {
      "cell_type": "code",
      "source": [],
      "metadata": {
        "id": "yMgTm4WA9SXV"
      },
      "execution_count": null,
      "outputs": []
    },
    {
      "cell_type": "markdown",
      "source": [
        "Join Arrays **Horizontally**\n",
        "\n",
        "The hstack() can join two arrays horizontally.The syntax is:\n",
        "\n",
        "    np.hstack((array1, array2))"
      ],
      "metadata": {
        "id": "83_F1a8_9Ycp"
      }
    },
    {
      "cell_type": "code",
      "source": [
        "import numpy as np\n",
        "a1= np.array([[10,11,12],[13,14,15]])\n",
        "a2=np.array([[21,22,23],[24,25,26]])\n",
        "a3=np.hstack((a1,a2))\n",
        "print(a3)"
      ],
      "metadata": {
        "colab": {
          "base_uri": "https://localhost:8080/"
        },
        "id": "aAzmpKIg9pA9",
        "outputId": "5db3c2fe-8d96-4b0e-95a9-6aedbbb5a94a"
      },
      "execution_count": null,
      "outputs": [
        {
          "output_type": "stream",
          "name": "stdout",
          "text": [
            "[[10 11 12 21 22 23]\n",
            " [13 14 15 24 25 26]]\n"
          ]
        }
      ]
    },
    {
      "cell_type": "code",
      "source": [],
      "metadata": {
        "id": "V2zXd_jt9rh_"
      },
      "execution_count": null,
      "outputs": []
    },
    {
      "cell_type": "markdown",
      "source": [
        "*Join 1d Arrays to be 3d Array*\n",
        "\n",
        "We can join two 1d arrays to be one 3d array.The syntax is:\n",
        "\n",
        "    np.dstack((array1,array2))\n",
        "\n",
        "By default, “dstack()” join two arrays horizontally.\n",
        "\n"
      ],
      "metadata": {
        "id": "QSzr--S8957o"
      }
    },
    {
      "cell_type": "code",
      "source": [
        "import numpy as np\n",
        "a1=np.array([11,12,13])\n",
        "a2=np.array([15,16,17])\n",
        "a3=np.dstack((a1,a2))\n",
        "print(a3)"
      ],
      "metadata": {
        "colab": {
          "base_uri": "https://localhost:8080/"
        },
        "id": "9IGblER6-GQb",
        "outputId": "d512d4d9-055a-498b-c67d-35c2d7e3c96a"
      },
      "execution_count": null,
      "outputs": [
        {
          "output_type": "stream",
          "name": "stdout",
          "text": [
            "[[[11 15]\n",
            "  [12 16]\n",
            "  [13 17]]]\n"
          ]
        }
      ]
    },
    {
      "cell_type": "code",
      "source": [
        "#Join 2d Arrays to be 3d Array\n",
        "\n",
        "import numpy as np\n",
        "a1 = np.array([[11],[12],[13]])      # 2d array\n",
        "a2 = np.array([[14],[15],[16]])      # 2d array\n",
        "myArr = np.dstack((a1,a2))\n",
        "print(myArr)"
      ],
      "metadata": {
        "colab": {
          "base_uri": "https://localhost:8080/"
        },
        "id": "WOc_2u6j-e6Y",
        "outputId": "94210ac0-5697-4861-a393-84f221e24627"
      },
      "execution_count": null,
      "outputs": [
        {
          "output_type": "stream",
          "name": "stdout",
          "text": [
            "[[[11 14]]\n",
            "\n",
            " [[12 15]]\n",
            "\n",
            " [[13 16]]]\n"
          ]
        }
      ]
    },
    {
      "cell_type": "markdown",
      "source": [
        "**Sorting Array**"
      ],
      "metadata": {
        "id": "N-RzLmEc_iTB"
      }
    },
    {
      "cell_type": "code",
      "source": [
        "#Sorting number array\n",
        "import numpy as np\n",
        "myArr = np.array([[ 2, 0, 3, 1 ], [ 7, 5, 6, 4 ]])\n",
        "print(np.sort(myArr))"
      ],
      "metadata": {
        "id": "3GEcrCqV-3KS"
      },
      "execution_count": null,
      "outputs": []
    },
    {
      "cell_type": "code",
      "source": [
        "#Sorting string array\n",
        "import numpy as np\n",
        "myArr = np.array(['dove', 'buffalo', 'antilope','camel'])\n",
        "print(np.sort(myArr))"
      ],
      "metadata": {
        "id": "T0Zi9zKp_0qu"
      },
      "execution_count": null,
      "outputs": []
    },
    {
      "cell_type": "markdown",
      "source": [
        "**Split an Array**\n",
        "\n",
        "Splitting an Array means breaking one array into multiple arrays.The syntax to split one array is:\n",
        "\n",
        "    array_split( array, number)\n",
        "\n",
        "The parameter “number” means how many arrays will be split."
      ],
      "metadata": {
        "id": "ml_k1tkoAKyK"
      }
    },
    {
      "cell_type": "code",
      "source": [
        "import numpy as np\n",
        "myArr = np.array([10, 20, 30, 40, 50, 60])\n",
        "arr = np.array_split(myArr, 3)\n",
        "print(arr)"
      ],
      "metadata": {
        "colab": {
          "base_uri": "https://localhost:8080/"
        },
        "id": "kzUTPnKtAbso",
        "outputId": "6630b6f5-2aad-4b5a-c97f-784214547394"
      },
      "execution_count": null,
      "outputs": [
        {
          "output_type": "stream",
          "name": "stdout",
          "text": [
            "[array([10, 20]), array([30, 40]), array([50, 60])]\n"
          ]
        }
      ]
    },
    {
      "cell_type": "code",
      "source": [
        "#Split Less Elements\n",
        "#If the array element is not enough to split evenly, NumPy will adjust themautomatically\n",
        "\n",
        "\n",
        "import numpy as np\n",
        "a1=np.array([12,15,17,18,19,27])\n",
        "arr=np.array_split(a1,4)\n",
        "print(arr)     #“np.array_split(a1, 4)” splits a1 into 4 arrays, but last two arrays only have one element.Because NumPy can automatically adjust them."
      ],
      "metadata": {
        "colab": {
          "base_uri": "https://localhost:8080/"
        },
        "id": "tYgfjFOyAe3H",
        "outputId": "ce57506a-4f03-4902-bc19-ad08da5d696f"
      },
      "execution_count": null,
      "outputs": [
        {
          "output_type": "stream",
          "name": "stdout",
          "text": [
            "[array([12, 15]), array([17, 18]), array([19]), array([27])]\n"
          ]
        }
      ]
    },
    {
      "cell_type": "code",
      "source": [
        "#Split 2D arrays\n",
        "import numpy as np\n",
        "myArr = np.array([[1, 2], [3, 4], [5, 6], [7, 8]])     # 2d array\n",
        "arr = np.array_split(myArr, 2)\n",
        "print(arr)"
      ],
      "metadata": {
        "colab": {
          "base_uri": "https://localhost:8080/"
        },
        "id": "QeVlJY8nBCWl",
        "outputId": "c18519d6-1c04-4bf1-8206-84126f20ea33"
      },
      "execution_count": null,
      "outputs": [
        {
          "output_type": "stream",
          "name": "stdout",
          "text": [
            "[array([[1, 2],\n",
            "       [3, 4]]), array([[5, 6],\n",
            "       [7, 8]])]\n"
          ]
        }
      ]
    },
    {
      "cell_type": "code",
      "source": [],
      "metadata": {
        "id": "6UjhIYOKBgEO"
      },
      "execution_count": null,
      "outputs": []
    },
    {
      "cell_type": "markdown",
      "source": [
        "**Split Vertically**\n",
        "\n",
        "We can split an array vertically.The syntax to split an array vertically is:\n",
        "\n",
        "    vsplit(array, number)\n",
        "    \n",
        "The parameter “number” means how many arrays will be split."
      ],
      "metadata": {
        "id": "lg08x0N9Bqky"
      }
    },
    {
      "cell_type": "code",
      "source": [
        "import numpy as np\n",
        "\n",
        "myArr = np.array([[1, 2], [3, 4], [5, 6], [7, 8]])     # 2d array\n",
        "arr = np.vsplit(myArr, 2)\n",
        "print(arr)"
      ],
      "metadata": {
        "colab": {
          "base_uri": "https://localhost:8080/"
        },
        "id": "0ie4GwjFCEz9",
        "outputId": "435c6915-e013-4bce-bc3e-aa6a12e71065"
      },
      "execution_count": null,
      "outputs": [
        {
          "output_type": "stream",
          "name": "stdout",
          "text": [
            "[array([[1, 2],\n",
            "       [3, 4]]), array([[5, 6],\n",
            "       [7, 8]])]\n"
          ]
        }
      ]
    },
    {
      "cell_type": "code",
      "source": [],
      "metadata": {
        "id": "6KKnB3jECI2L"
      },
      "execution_count": null,
      "outputs": []
    },
    {
      "cell_type": "markdown",
      "source": [
        "**Split Horizontally**\n",
        "\n",
        "We can split an array horizontally.The syntax to split an array horizontally is:\n",
        "\n",
        "    hsplit(array, number)\n",
        "\n",
        "The parameter “number” means how many arrays will be split."
      ],
      "metadata": {
        "id": "7O-h8bBRCOd0"
      }
    },
    {
      "cell_type": "code",
      "source": [
        "import numpy as np\n",
        "myArr = np.array([[1, 2], [3, 4], [5, 6], [7, 8]])     # 2d array\n",
        "arr = np.hsplit(myArr, 2)\n",
        "print(arr)"
      ],
      "metadata": {
        "colab": {
          "base_uri": "https://localhost:8080/"
        },
        "id": "8hravqtpCZ-O",
        "outputId": "0678bef9-dc5e-4a00-863e-2ceacae3d01f"
      },
      "execution_count": null,
      "outputs": [
        {
          "output_type": "stream",
          "name": "stdout",
          "text": [
            "[array([[1],\n",
            "       [3],\n",
            "       [5],\n",
            "       [7]]), array([[2],\n",
            "       [4],\n",
            "       [6],\n",
            "       [8]])]\n"
          ]
        }
      ]
    },
    {
      "cell_type": "code",
      "source": [],
      "metadata": {
        "id": "o9F1ygz2CgrH"
      },
      "execution_count": null,
      "outputs": []
    },
    {
      "cell_type": "markdown",
      "source": [
        "**Find Array Index**\n",
        "\n",
        "We can find out the matched indexes by the element value, and return a newarray containing matched indexes.The syntax to find out the matched indexes is:\n",
        "\n",
        "    where(array == value)"
      ],
      "metadata": {
        "id": "DPYFLRDPCru6"
      }
    },
    {
      "cell_type": "code",
      "source": [
        "import numpy as np\n",
        "myArr = np.array([0, 3, 2, 3, 4, 5, 3])\n",
        "arr = np.where(myArr == 3)\n",
        "print(arr)      #“np.where(myArr == 3)” finds out all indexes whose value is 3, andreturns a new array whose elements are matched indexes, which also meansthat the value 3 appears at index 1, 3 and 6."
      ],
      "metadata": {
        "colab": {
          "base_uri": "https://localhost:8080/"
        },
        "id": "o7u5MiCZCy-9",
        "outputId": "0f8a2f98-4cd6-421f-b2b2-008d43296aeb"
      },
      "execution_count": null,
      "outputs": [
        {
          "output_type": "stream",
          "name": "stdout",
          "text": [
            "(array([1, 3, 6]),)\n"
          ]
        }
      ]
    },
    {
      "cell_type": "markdown",
      "source": [
        "*Where is Even/Odd Number?*"
      ],
      "metadata": {
        "id": "zoKZHuSJDe6i"
      }
    },
    {
      "cell_type": "code",
      "source": [
        "#We can find out the indexes where the even numbers or the odd numberslocate.\n",
        "import numpy as np\n",
        "myArr = np.array([ 10, 55, 21, 62, 29, 75, 36, 98])\n",
        "even = np.where(myArr%2==0)\n",
        "print(even)\n",
        "odd = np.where(myArr%2==1)\n",
        "print(odd)"
      ],
      "metadata": {
        "colab": {
          "base_uri": "https://localhost:8080/"
        },
        "id": "xQsOh818DThd",
        "outputId": "70075d69-5c37-4714-e2cb-927d112a15bb"
      },
      "execution_count": null,
      "outputs": [
        {
          "output_type": "stream",
          "name": "stdout",
          "text": [
            "(array([0, 3, 6, 7]),)\n",
            "(array([1, 2, 4, 5]),)\n"
          ]
        }
      ]
    },
    {
      "cell_type": "markdown",
      "source": [
        "**Search Index in a Location**\n",
        "\n",
        "In a sorted array, we can search an index by using a value that is not in thecurrent array.The syntax is:\n",
        "\n",
        "    searchsorted( array, value )"
      ],
      "metadata": {
        "id": "mFpDcbN9DpoK"
      }
    },
    {
      "cell_type": "code",
      "source": [
        "import numpy as np\n",
        "myArr = np.array([24, 35, 46, 57, 68])\n",
        "arr1 = np.searchsorted(myArr, 45)\n",
        "arr2 = np.searchsorted(myArr, 47)\n",
        "print(arr1)\n",
        "print(arr2)"
      ],
      "metadata": {
        "colab": {
          "base_uri": "https://localhost:8080/"
        },
        "id": "qUJlZBnfDv5X",
        "outputId": "5e07d389-1e11-4430-fb0f-582bd8e012ce"
      },
      "execution_count": null,
      "outputs": [
        {
          "output_type": "stream",
          "name": "stdout",
          "text": [
            "2\n",
            "3\n"
          ]
        }
      ]
    },
    {
      "cell_type": "markdown",
      "source": [
        "**Search More Indexes**\n",
        "\n",
        "We can search multiple indexes simoutaneously.The syntax to search multiple indexes is:\n",
        "\n",
        "    searchsorted( array, [v1, v2, v3,...] )"
      ],
      "metadata": {
        "id": "Duged1H4ELvM"
      }
    }
  ]
}